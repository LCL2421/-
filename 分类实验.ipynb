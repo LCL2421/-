{
 "cells": [
  {
   "cell_type": "markdown",
   "metadata": {
    "papermill": {
     "duration": 0.004953,
     "end_time": "2023-03-31T06:29:36.949994",
     "exception": false,
     "start_time": "2023-03-31T06:29:36.945041",
     "status": "completed"
    },
    "tags": []
   },
   "source": [
    "# Imports"
   ]
  },
  {
   "cell_type": "code",
   "execution_count": 1,
   "metadata": {
    "_cell_guid": "b1076dfc-b9ad-4769-8c92-a6c4dae69d19",
    "_uuid": "8f2839f25d086af736a60e9eeb907d3b93b6e0e5",
    "execution": {
     "iopub.execute_input": "2023-03-31T06:29:36.978053Z",
     "iopub.status.busy": "2023-03-31T06:29:36.977658Z",
     "iopub.status.idle": "2023-03-31T06:29:40.890095Z",
     "shell.execute_reply": "2023-03-31T06:29:40.889077Z"
    },
    "papermill": {
     "duration": 3.93229,
     "end_time": "2023-03-31T06:29:40.892952",
     "exception": false,
     "start_time": "2023-03-31T06:29:36.960662",
     "status": "completed"
    },
    "tags": []
   },
   "outputs": [
    {
     "data": {
      "text/html": [
       "<style type='text/css'>\n",
       ".datatable table.frame { margin-bottom: 0; }\n",
       ".datatable table.frame thead { border-bottom: none; }\n",
       ".datatable table.frame tr.coltypes td {  color: #FFFFFF;  line-height: 6px;  padding: 0 0.5em;}\n",
       ".datatable .bool    { background: #DDDD99; }\n",
       ".datatable .object  { background: #565656; }\n",
       ".datatable .int     { background: #5D9E5D; }\n",
       ".datatable .float   { background: #4040CC; }\n",
       ".datatable .str     { background: #CC4040; }\n",
       ".datatable .time    { background: #40CC40; }\n",
       ".datatable .row_index {  background: var(--jp-border-color3);  border-right: 1px solid var(--jp-border-color0);  color: var(--jp-ui-font-color3);  font-size: 9px;}\n",
       ".datatable .frame tbody td { text-align: left; }\n",
       ".datatable .frame tr.coltypes .row_index {  background: var(--jp-border-color0);}\n",
       ".datatable th:nth-child(2) { padding-left: 12px; }\n",
       ".datatable .hellipsis {  color: var(--jp-cell-editor-border-color);}\n",
       ".datatable .vellipsis {  background: var(--jp-layout-color0);  color: var(--jp-cell-editor-border-color);}\n",
       ".datatable .na {  color: var(--jp-cell-editor-border-color);  font-size: 80%;}\n",
       ".datatable .sp {  opacity: 0.25;}\n",
       ".datatable .footer { font-size: 9px; }\n",
       ".datatable .frame_dimensions {  background: var(--jp-border-color3);  border-top: 1px solid var(--jp-border-color0);  color: var(--jp-ui-font-color3);  display: inline-block;  opacity: 0.6;  padding: 1px 10px 1px 5px;}\n",
       "</style>\n"
      ],
      "text/plain": [
       "<IPython.core.display.HTML object>"
      ]
     },
     "metadata": {},
     "output_type": "display_data"
    }
   ],
   "source": [
    "import numpy as np\n",
    "import pandas as pd\n",
    "import matplotlib.pyplot as plt\n",
    "import seaborn as sns\n",
    "from xgboost import XGBRegressor\n",
    "from sklearn.model_selection import KFold, GroupKFold,StratifiedKFold\n",
    "import matplotlib.pyplot as plt\n",
    "from sklearn.metrics import log_loss\n",
    "from sklearn.cluster import KMeans\n",
    "from sklearn.preprocessing import scale\n",
    "from sklearn.calibration import CalibrationDisplay\n",
    "from itertools import combinations\n",
    "from itertools import permutations\n",
    "from sklearn.model_selection import train_test_split\n",
    "from sklearn.ensemble import ExtraTreesClassifier\n",
    "import optuna\n",
    "from xgboost import XGBRegressor\n",
    "from xgboost import XGBClassifier\n",
    "import xgboost as xgb\n",
    "from sklearn.metrics import log_loss\n",
    "import lightgbm as lgb\n",
    "from sklearn.ensemble import RandomForestClassifier\n",
    "import joblib\n",
    "from sklearn.metrics import mean_squared_error\n",
    "from catboost import CatBoostRegressor\n",
    "from sklearn.metrics import mean_squared_log_error\n",
    "from sklearn.model_selection import cross_validate\n",
    "from sklearn.model_selection import cross_val_score\n",
    "from sklearn.model_selection import KFold\n",
    "from xgboost import XGBRegressor\n",
    "import xgboost as xgb\n",
    "from sklearn.metrics import log_loss\n",
    "sns.set(style=\"ticks\")"
   ]
  },
  {
   "cell_type": "markdown",
   "metadata": {
    "papermill": {
     "duration": 0.005586,
     "end_time": "2023-03-31T06:29:42.570705",
     "exception": false,
     "start_time": "2023-03-31T06:29:42.565119",
     "status": "completed"
    },
    "tags": []
   },
   "source": [
    "# Feature engeneering/selection"
   ]
  },
  {
   "cell_type": "code",
   "execution_count": 3,
   "metadata": {
    "execution": {
     "iopub.execute_input": "2023-03-31T06:29:42.581569Z",
     "iopub.status.busy": "2023-03-31T06:29:42.581261Z",
     "iopub.status.idle": "2023-03-31T06:29:42.975072Z",
     "shell.execute_reply": "2023-03-31T06:29:42.974108Z"
    },
    "papermill": {
     "duration": 0.40214,
     "end_time": "2023-03-31T06:29:42.977659",
     "exception": false,
     "start_time": "2023-03-31T06:29:42.575519",
     "status": "completed"
    },
    "tags": []
   },
   "outputs": [
    {
     "data": {
      "text/html": [
       "<div>\n",
       "<style scoped>\n",
       "    .dataframe tbody tr th:only-of-type {\n",
       "        vertical-align: middle;\n",
       "    }\n",
       "\n",
       "    .dataframe tbody tr th {\n",
       "        vertical-align: top;\n",
       "    }\n",
       "\n",
       "    .dataframe thead th {\n",
       "        text-align: right;\n",
       "    }\n",
       "</style>\n",
       "<table border=\"1\" class=\"dataframe\">\n",
       "  <thead>\n",
       "    <tr style=\"text-align: right;\">\n",
       "      <th></th>\n",
       "      <th>store_sqft</th>\n",
       "      <th>avg_total_children</th>\n",
       "      <th>avg_store_sales(in millions)</th>\n",
       "      <th>avg_units_per_case</th>\n",
       "    </tr>\n",
       "  </thead>\n",
       "  <tbody>\n",
       "    <tr>\n",
       "      <th>21215.0</th>\n",
       "      <td>21215.0</td>\n",
       "      <td>2.376341</td>\n",
       "      <td>6.429552</td>\n",
       "      <td>18.966716</td>\n",
       "    </tr>\n",
       "    <tr>\n",
       "      <th>27694.0</th>\n",
       "      <td>27694.0</td>\n",
       "      <td>2.365320</td>\n",
       "      <td>6.491849</td>\n",
       "      <td>19.027253</td>\n",
       "    </tr>\n",
       "    <tr>\n",
       "      <th>30268.0</th>\n",
       "      <td>30268.0</td>\n",
       "      <td>2.648062</td>\n",
       "      <td>6.498345</td>\n",
       "      <td>18.915053</td>\n",
       "    </tr>\n",
       "    <tr>\n",
       "      <th>23593.0</th>\n",
       "      <td>23593.0</td>\n",
       "      <td>2.676023</td>\n",
       "      <td>6.478760</td>\n",
       "      <td>18.942552</td>\n",
       "    </tr>\n",
       "    <tr>\n",
       "      <th>23598.0</th>\n",
       "      <td>23598.0</td>\n",
       "      <td>2.372495</td>\n",
       "      <td>6.536925</td>\n",
       "      <td>19.009008</td>\n",
       "    </tr>\n",
       "  </tbody>\n",
       "</table>\n",
       "</div>"
      ],
      "text/plain": [
       "         store_sqft  avg_total_children  avg_store_sales(in millions)  \\\n",
       "21215.0     21215.0            2.376341                      6.429552   \n",
       "27694.0     27694.0            2.365320                      6.491849   \n",
       "30268.0     30268.0            2.648062                      6.498345   \n",
       "23593.0     23593.0            2.676023                      6.478760   \n",
       "23598.0     23598.0            2.372495                      6.536925   \n",
       "\n",
       "         avg_units_per_case  \n",
       "21215.0           18.966716  \n",
       "27694.0           19.027253  \n",
       "30268.0           18.915053  \n",
       "23593.0           18.942552  \n",
       "23598.0           19.009008  "
      ]
     },
     "execution_count": 3,
     "metadata": {},
     "output_type": "execute_result"
    }
   ],
   "source": [
    "FEATS = [\"total_children\", \"num_children_at_home\", \"avg_cars_at home(approx).1\",\n",
    "         \"store_sqft\", \"coffee_bar\", \"video_store\", 'florist',\"prepared_food\"]\n",
    "INIT_FEATS =[\"total_children\", \"num_children_at_home\", \"avg_cars_at home(approx).1\",'unit_sales(in millions)','store_sales(in millions)','units_per_case',\n",
    "         \"store_sqft\", \"coffee_bar\", \"video_store\", 'florist',\"prepared_food\",'average_children','average_units','average_sales','gross_weight']\n",
    "\n",
    "CAT_FEATS = FEATS.copy()\n",
    "avg_df = pd.DataFrame(index = train.store_sqft.unique())\n",
    "avg_df['store_sqft'] = avg_df.index\n",
    "\n",
    "avg_df_test = pd.DataFrame(index = test.store_sqft.unique())\n",
    "avg_df_test['store_sqft'] = avg_df_test.index\n",
    "\n",
    "avg_df_hold = pd.DataFrame(index = hold.store_sqft.unique())\n",
    "avg_df_hold['store_sqft'] = avg_df_hold.index\n",
    "\n",
    "\n",
    "avg_df_original = pd.DataFrame(index = original.store_sqft.unique())\n",
    "avg_df_original['store_sqft'] = avg_df_original.index\n",
    "\n",
    "concat_train_hold_test = pd.concat([train,hold,test],ignore_index=True)\n",
    "for feature in INIT_FEATS:\n",
    "    if feature in ['units_per_case','store_sales(in millions)','total_children']:\n",
    "        avg_df[f'avg_{feature}'] = concat_train_hold_test.groupby('store_sqft')[feature].mean()\n",
    "        avg_df_test[f'avg_{feature}'] = concat_train_hold_test.groupby('store_sqft')[feature].mean()\n",
    "        avg_df_hold[f'avg_{feature}'] = concat_train_hold_test.groupby('store_sqft')[feature].mean()\n",
    "        avg_df_original[f'avg_{feature}'] = concat_train_hold_test.groupby('store_sqft')[feature].mean()\n",
    "        \n",
    "        CAT_FEATS.append(f'avg_{feature}')\n",
    "\n",
    "train = pd.merge(train, avg_df, on='store_sqft', how='left')\n",
    "hold = pd.merge(hold, avg_df_hold, on='store_sqft', how='left')\n",
    "test = pd.merge(test, avg_df_test, on='store_sqft', how='left')\n",
    "original = pd.merge(original, avg_df_original, on='store_sqft', how='left')\n",
    "avg_df.head()"
   ]
  },
  {
   "cell_type": "code",
   "execution_count": 4,
   "metadata": {
    "execution": {
     "iopub.execute_input": "2023-03-31T06:29:42.989928Z",
     "iopub.status.busy": "2023-03-31T06:29:42.989624Z",
     "iopub.status.idle": "2023-03-31T06:29:42.996207Z",
     "shell.execute_reply": "2023-03-31T06:29:42.995092Z"
    },
    "papermill": {
     "duration": 0.015935,
     "end_time": "2023-03-31T06:29:42.999314",
     "exception": false,
     "start_time": "2023-03-31T06:29:42.983379",
     "status": "completed"
    },
    "tags": []
   },
   "outputs": [
    {
     "data": {
      "text/plain": [
       "['total_children',\n",
       " 'num_children_at_home',\n",
       " 'avg_cars_at home(approx).1',\n",
       " 'store_sqft',\n",
       " 'coffee_bar',\n",
       " 'video_store',\n",
       " 'florist',\n",
       " 'prepared_food']"
      ]
     },
     "execution_count": 4,
     "metadata": {},
     "output_type": "execute_result"
    }
   ],
   "source": [
    "FEATS"
   ]
  },
  {
   "cell_type": "code",
   "execution_count": 5,
   "metadata": {
    "execution": {
     "iopub.execute_input": "2023-03-31T06:29:43.010613Z",
     "iopub.status.busy": "2023-03-31T06:29:43.010317Z",
     "iopub.status.idle": "2023-03-31T06:29:43.016102Z",
     "shell.execute_reply": "2023-03-31T06:29:43.015126Z"
    },
    "papermill": {
     "duration": 0.014,
     "end_time": "2023-03-31T06:29:43.018256",
     "exception": false,
     "start_time": "2023-03-31T06:29:43.004256",
     "status": "completed"
    },
    "tags": []
   },
   "outputs": [
    {
     "data": {
      "text/plain": [
       "['total_children',\n",
       " 'num_children_at_home',\n",
       " 'avg_cars_at home(approx).1',\n",
       " 'store_sqft',\n",
       " 'coffee_bar',\n",
       " 'video_store',\n",
       " 'florist',\n",
       " 'prepared_food',\n",
       " 'avg_total_children',\n",
       " 'avg_store_sales(in millions)',\n",
       " 'avg_units_per_case']"
      ]
     },
     "execution_count": 5,
     "metadata": {},
     "output_type": "execute_result"
    }
   ],
   "source": [
    "CAT_FEATS"
   ]
  },
  {
   "cell_type": "code",
   "execution_count": 6,
   "metadata": {
    "execution": {
     "iopub.execute_input": "2023-03-31T06:29:43.029649Z",
     "iopub.status.busy": "2023-03-31T06:29:43.029381Z",
     "iopub.status.idle": "2023-03-31T06:29:43.108456Z",
     "shell.execute_reply": "2023-03-31T06:29:43.107275Z"
    },
    "papermill": {
     "duration": 0.087935,
     "end_time": "2023-03-31T06:29:43.111269",
     "exception": false,
     "start_time": "2023-03-31T06:29:43.023334",
     "status": "completed"
    },
    "tags": []
   },
   "outputs": [],
   "source": [
    "train[FEATS] = train[FEATS].round(2)\n",
    "original[FEATS] = original[FEATS].round(2)"
   ]
  },
  {
   "cell_type": "code",
   "execution_count": 7,
   "metadata": {
    "execution": {
     "iopub.execute_input": "2023-03-31T06:29:43.123200Z",
     "iopub.status.busy": "2023-03-31T06:29:43.122857Z",
     "iopub.status.idle": "2023-03-31T06:29:43.149531Z",
     "shell.execute_reply": "2023-03-31T06:29:43.148233Z"
    },
    "papermill": {
     "duration": 0.035113,
     "end_time": "2023-03-31T06:29:43.151827",
     "exception": false,
     "start_time": "2023-03-31T06:29:43.116714",
     "status": "completed"
    },
    "tags": []
   },
   "outputs": [
    {
     "data": {
      "text/html": [
       "<div>\n",
       "<style scoped>\n",
       "    .dataframe tbody tr th:only-of-type {\n",
       "        vertical-align: middle;\n",
       "    }\n",
       "\n",
       "    .dataframe tbody tr th {\n",
       "        vertical-align: top;\n",
       "    }\n",
       "\n",
       "    .dataframe thead th {\n",
       "        text-align: right;\n",
       "    }\n",
       "</style>\n",
       "<table border=\"1\" class=\"dataframe\">\n",
       "  <thead>\n",
       "    <tr style=\"text-align: right;\">\n",
       "      <th></th>\n",
       "      <th>key_0</th>\n",
       "      <th>id</th>\n",
       "      <th>store_sales(in millions)</th>\n",
       "      <th>unit_sales(in millions)</th>\n",
       "      <th>total_children</th>\n",
       "      <th>num_children_at_home</th>\n",
       "      <th>avg_cars_at home(approx).1</th>\n",
       "      <th>gross_weight</th>\n",
       "      <th>recyclable_package</th>\n",
       "      <th>low_fat</th>\n",
       "      <th>...</th>\n",
       "      <th>store_sqft</th>\n",
       "      <th>coffee_bar</th>\n",
       "      <th>video_store</th>\n",
       "      <th>salad_bar</th>\n",
       "      <th>prepared_food</th>\n",
       "      <th>florist</th>\n",
       "      <th>cost</th>\n",
       "      <th>avg_total_children</th>\n",
       "      <th>avg_store_sales(in millions)</th>\n",
       "      <th>avg_units_per_case</th>\n",
       "    </tr>\n",
       "  </thead>\n",
       "  <tbody>\n",
       "    <tr>\n",
       "      <th>0</th>\n",
       "      <td>141056</td>\n",
       "      <td>0</td>\n",
       "      <td>5.48</td>\n",
       "      <td>4.0</td>\n",
       "      <td>4.0</td>\n",
       "      <td>1.0</td>\n",
       "      <td>2.0</td>\n",
       "      <td>10.1</td>\n",
       "      <td>1.0</td>\n",
       "      <td>0.0</td>\n",
       "      <td>...</td>\n",
       "      <td>21215.0</td>\n",
       "      <td>1.0</td>\n",
       "      <td>0.0</td>\n",
       "      <td>0.0</td>\n",
       "      <td>0.0</td>\n",
       "      <td>0.0</td>\n",
       "      <td>69.63</td>\n",
       "      <td>2.376341</td>\n",
       "      <td>6.429552</td>\n",
       "      <td>18.966716</td>\n",
       "    </tr>\n",
       "    <tr>\n",
       "      <th>1</th>\n",
       "      <td>39904</td>\n",
       "      <td>1</td>\n",
       "      <td>6.76</td>\n",
       "      <td>2.0</td>\n",
       "      <td>1.0</td>\n",
       "      <td>0.0</td>\n",
       "      <td>2.0</td>\n",
       "      <td>17.0</td>\n",
       "      <td>0.0</td>\n",
       "      <td>0.0</td>\n",
       "      <td>...</td>\n",
       "      <td>27694.0</td>\n",
       "      <td>1.0</td>\n",
       "      <td>1.0</td>\n",
       "      <td>1.0</td>\n",
       "      <td>1.0</td>\n",
       "      <td>1.0</td>\n",
       "      <td>66.27</td>\n",
       "      <td>2.365320</td>\n",
       "      <td>6.491849</td>\n",
       "      <td>19.027253</td>\n",
       "    </tr>\n",
       "    <tr>\n",
       "      <th>2</th>\n",
       "      <td>148590</td>\n",
       "      <td>2</td>\n",
       "      <td>4.40</td>\n",
       "      <td>2.0</td>\n",
       "      <td>5.0</td>\n",
       "      <td>0.0</td>\n",
       "      <td>3.0</td>\n",
       "      <td>17.9</td>\n",
       "      <td>1.0</td>\n",
       "      <td>0.0</td>\n",
       "      <td>...</td>\n",
       "      <td>21215.0</td>\n",
       "      <td>1.0</td>\n",
       "      <td>0.0</td>\n",
       "      <td>0.0</td>\n",
       "      <td>0.0</td>\n",
       "      <td>0.0</td>\n",
       "      <td>138.53</td>\n",
       "      <td>2.376341</td>\n",
       "      <td>6.429552</td>\n",
       "      <td>18.966716</td>\n",
       "    </tr>\n",
       "    <tr>\n",
       "      <th>3</th>\n",
       "      <td>10069</td>\n",
       "      <td>3</td>\n",
       "      <td>2.70</td>\n",
       "      <td>3.0</td>\n",
       "      <td>4.0</td>\n",
       "      <td>0.0</td>\n",
       "      <td>1.0</td>\n",
       "      <td>14.0</td>\n",
       "      <td>1.0</td>\n",
       "      <td>1.0</td>\n",
       "      <td>...</td>\n",
       "      <td>30268.0</td>\n",
       "      <td>0.0</td>\n",
       "      <td>0.0</td>\n",
       "      <td>0.0</td>\n",
       "      <td>0.0</td>\n",
       "      <td>0.0</td>\n",
       "      <td>93.07</td>\n",
       "      <td>2.648062</td>\n",
       "      <td>6.498345</td>\n",
       "      <td>18.915053</td>\n",
       "    </tr>\n",
       "    <tr>\n",
       "      <th>4</th>\n",
       "      <td>260930</td>\n",
       "      <td>4</td>\n",
       "      <td>8.85</td>\n",
       "      <td>3.0</td>\n",
       "      <td>2.0</td>\n",
       "      <td>2.0</td>\n",
       "      <td>2.0</td>\n",
       "      <td>17.9</td>\n",
       "      <td>1.0</td>\n",
       "      <td>0.0</td>\n",
       "      <td>...</td>\n",
       "      <td>23593.0</td>\n",
       "      <td>0.0</td>\n",
       "      <td>0.0</td>\n",
       "      <td>0.0</td>\n",
       "      <td>0.0</td>\n",
       "      <td>0.0</td>\n",
       "      <td>55.22</td>\n",
       "      <td>2.676023</td>\n",
       "      <td>6.478760</td>\n",
       "      <td>18.942552</td>\n",
       "    </tr>\n",
       "  </tbody>\n",
       "</table>\n",
       "<p>5 rows × 21 columns</p>\n",
       "</div>"
      ],
      "text/plain": [
       "    key_0  id  store_sales(in millions)  unit_sales(in millions)  \\\n",
       "0  141056   0                      5.48                      4.0   \n",
       "1   39904   1                      6.76                      2.0   \n",
       "2  148590   2                      4.40                      2.0   \n",
       "3   10069   3                      2.70                      3.0   \n",
       "4  260930   4                      8.85                      3.0   \n",
       "\n",
       "   total_children  num_children_at_home  avg_cars_at home(approx).1  \\\n",
       "0             4.0                   1.0                         2.0   \n",
       "1             1.0                   0.0                         2.0   \n",
       "2             5.0                   0.0                         3.0   \n",
       "3             4.0                   0.0                         1.0   \n",
       "4             2.0                   2.0                         2.0   \n",
       "\n",
       "   gross_weight  recyclable_package  low_fat  ...  store_sqft  coffee_bar  \\\n",
       "0          10.1                 1.0      0.0  ...     21215.0         1.0   \n",
       "1          17.0                 0.0      0.0  ...     27694.0         1.0   \n",
       "2          17.9                 1.0      0.0  ...     21215.0         1.0   \n",
       "3          14.0                 1.0      1.0  ...     30268.0         0.0   \n",
       "4          17.9                 1.0      0.0  ...     23593.0         0.0   \n",
       "\n",
       "   video_store  salad_bar  prepared_food  florist    cost  avg_total_children  \\\n",
       "0          0.0        0.0            0.0      0.0   69.63            2.376341   \n",
       "1          1.0        1.0            1.0      1.0   66.27            2.365320   \n",
       "2          0.0        0.0            0.0      0.0  138.53            2.376341   \n",
       "3          0.0        0.0            0.0      0.0   93.07            2.648062   \n",
       "4          0.0        0.0            0.0      0.0   55.22            2.676023   \n",
       "\n",
       "   avg_store_sales(in millions)  avg_units_per_case  \n",
       "0                      6.429552           18.966716  \n",
       "1                      6.491849           19.027253  \n",
       "2                      6.429552           18.966716  \n",
       "3                      6.498345           18.915053  \n",
       "4                      6.478760           18.942552  \n",
       "\n",
       "[5 rows x 21 columns]"
      ]
     },
     "execution_count": 7,
     "metadata": {},
     "output_type": "execute_result"
    }
   ],
   "source": [
    "train.head()"
   ]
  },
  {
   "cell_type": "code",
   "execution_count": 8,
   "metadata": {
    "execution": {
     "iopub.execute_input": "2023-03-31T06:29:43.164566Z",
     "iopub.status.busy": "2023-03-31T06:29:43.164285Z",
     "iopub.status.idle": "2023-03-31T06:29:43.191077Z",
     "shell.execute_reply": "2023-03-31T06:29:43.190185Z"
    },
    "papermill": {
     "duration": 0.036213,
     "end_time": "2023-03-31T06:29:43.193352",
     "exception": false,
     "start_time": "2023-03-31T06:29:43.157139",
     "status": "completed"
    },
    "tags": []
   },
   "outputs": [],
   "source": [
    "num_bins =5\n",
    "train['bins'] = pd.cut(train['cost'], bins=num_bins).astype('category')\n",
    "bins = train['bins'].unique()\n",
    "bin_map = {}\n",
    "for i,bin in enumerate(bins):\n",
    "    bin_map[bin] = i\n",
    "    \n",
    "train['bins'] = train['bins'].map(bin_map)"
   ]
  },
  {
   "cell_type": "markdown",
   "metadata": {
    "papermill": {
     "duration": 0.005092,
     "end_time": "2023-03-31T06:29:43.203684",
     "exception": false,
     "start_time": "2023-03-31T06:29:43.198592",
     "status": "completed"
    },
    "tags": []
   },
   "source": [
    "# Train"
   ]
  },
  {
   "cell_type": "code",
   "execution_count": 9,
   "metadata": {
    "execution": {
     "iopub.execute_input": "2023-03-31T06:29:43.215664Z",
     "iopub.status.busy": "2023-03-31T06:29:43.215390Z",
     "iopub.status.idle": "2023-03-31T06:33:37.290372Z",
     "shell.execute_reply": "2023-03-31T06:33:37.289306Z"
    },
    "papermill": {
     "duration": 234.083662,
     "end_time": "2023-03-31T06:33:37.292856",
     "exception": false,
     "start_time": "2023-03-31T06:29:43.209194",
     "status": "completed"
    },
    "tags": []
   },
   "outputs": [
    {
     "name": "stdout",
     "output_type": "stream",
     "text": [
      "\n",
      "Fold 1:\n",
      "0:\tlearn: 0.3154794\ttest: 0.3144863\tbest: 0.3144863 (0)\ttotal: 20.1ms\tremaining: 3m 20s\n",
      "1000:\tlearn: 0.2993409\ttest: 0.2933015\tbest: 0.2932983 (901)\ttotal: 15.6s\tremaining: 2m 19s\n",
      "bestTest = 0.2932982731\n",
      "bestIteration = 901\n",
      "Shrink model to first 902 iterations.\n",
      "model cat trained\n",
      "model xgb trained\n",
      "\n",
      "Fold 2:\n",
      "0:\tlearn: 0.3153398\ttest: 0.3153624\tbest: 0.3153624 (0)\ttotal: 17.2ms\tremaining: 2m 51s\n",
      "1000:\tlearn: 0.2994302\ttest: 0.2930448\tbest: 0.2930448 (1000)\ttotal: 15.8s\tremaining: 2m 22s\n",
      "bestTest = 0.2930418034\n",
      "bestIteration = 1126\n",
      "Shrink model to first 1127 iterations.\n",
      "model cat trained\n",
      "model xgb trained\n",
      "\n",
      "Fold 3:\n",
      "0:\tlearn: 0.3152993\ttest: 0.3155355\tbest: 0.3155355 (0)\ttotal: 17.1ms\tremaining: 2m 50s\n",
      "bestTest = 0.2950967624\n",
      "bestIteration = 882\n",
      "Shrink model to first 883 iterations.\n",
      "model cat trained\n",
      "model xgb trained\n",
      "\n",
      "Fold 4:\n",
      "0:\tlearn: 0.3153211\ttest: 0.3154367\tbest: 0.3154367 (0)\ttotal: 17.7ms\tremaining: 2m 56s\n",
      "bestTest = 0.2943040242\n",
      "bestIteration = 722\n",
      "Shrink model to first 723 iterations.\n",
      "model cat trained\n",
      "model xgb trained\n",
      "\n",
      "Fold 5:\n",
      "0:\tlearn: 0.3152863\ttest: 0.3156555\tbest: 0.3156555 (0)\ttotal: 16ms\tremaining: 2m 40s\n",
      "bestTest = 0.2939374881\n",
      "bestIteration = 839\n",
      "Shrink model to first 840 iterations.\n",
      "model cat trained\n",
      "model xgb trained\n"
     ]
    }
   ],
   "source": [
    "ALL_USERS = train.id.unique()\n",
    "gkf = GroupKFold(n_splits=5)\n",
    "oof = pd.DataFrame(index=ALL_USERS)\n",
    "\n",
    "#hyperparams\n",
    "cat_params = {\n",
    "    'iterations': 10000,\n",
    "    'learning_rate': 0.07,\n",
    "    'depth': 11,\n",
    "    'l2_leaf_reg':8 ,\n",
    "    'random_strength':0.5,\n",
    "    'loss_function': 'RMSE',\n",
    "    'eval_metric': 'RMSE',\n",
    "    'task_type': 'GPU',\n",
    "    'border_count': 128,\n",
    "    'verbose': 1000,\n",
    "    'early_stopping_rounds': 100,\n",
    "    'use_best_model': True ,\n",
    "    'random_state': 42,\n",
    "    \n",
    "}\n",
    "\n",
    "xgb_params = {\n",
    "    'objective': 'reg:squarederror',\n",
    "    'tree_method': 'gpu_hist',\n",
    "    'eval_metric': 'rmse',\n",
    "    'seed': 42,\n",
    "    'n_estimators': 1000,\n",
    "    'learning_rate': 0.14774138317002128,\n",
    "    'early_stopping_rounds': 1000,\n",
    "    'max_depth': 11,\n",
    "    'subsample': 0.90,\n",
    "    'colsample_bytree': 0.90,\n",
    "\n",
    "    'alpha': 4,\n",
    "    'lambda': 5\n",
    "}\n",
    "\n",
    "targets = np.log(train.cost+1)\n",
    "n_splits = 5\n",
    "kf = KFold(n_splits=5, shuffle=True, random_state=100)\n",
    "skf = StratifiedKFold(n_splits=5, shuffle=True, random_state=100)\n",
    "num_trees_cat = []\n",
    "num_trees_xgb = []\n",
    "\n",
    "for i, (train_index, test_index) in enumerate(skf.split(X=train, y=train['bins'], groups=train.index)):\n",
    "    print(f'\\nFold {i+1}:')\n",
    "\n",
    "    train_x = train.iloc[train_index]\n",
    "    train_x = pd.concat([train_x,original])\n",
    "    train_gems = train_x.index.values\n",
    "    train_y = targets.loc[train_gems]\n",
    "\n",
    "    valid_x = train.iloc[test_index]\n",
    "    valid_gems = valid_x.index.values\n",
    "    valid_y = targets.loc[valid_gems]\n",
    "    \n",
    "    model_dict = {\n",
    "            'cat': [CatBoostRegressor(**cat_params),{\"eval_set\":[(valid_x[CAT_FEATS].astype('float32'), valid_y)],'plot':False},CAT_FEATS],\n",
    "            'xgb': [XGBRegressor(**xgb_params),{\"eval_set\":[(valid_x[FEATS].astype('float32'), valid_y)],\"verbose\":0},FEATS],\n",
    "         }\n",
    "    \n",
    "    all_models = model_dict.keys()\n",
    "    for model in all_models:\n",
    "        clf = model_dict[model][0]\n",
    "        clf.fit(train_x[model_dict[model][2]].astype('float32'), train_y, **model_dict[model][1])\n",
    "        \n",
    "        oof.loc[valid_gems, f'{model}_prediction'] = np.exp(clf.predict(valid_x[model_dict[model][2]].astype('float32')))-1\n",
    "        print(f'model {model} trained')\n",
    "        if model == 'cat':\n",
    "            num_trees_cat.append(clf.get_best_iteration())\n",
    "        if model == 'xgb':\n",
    "            num_trees_xgb.append(clf.best_ntree_limit)\n"
   ]
  },
  {
   "cell_type": "markdown",
   "metadata": {
    "papermill": {
     "duration": 0.006324,
     "end_time": "2023-03-31T06:33:37.306546",
     "exception": false,
     "start_time": "2023-03-31T06:33:37.300222",
     "status": "completed"
    },
    "tags": []
   },
   "source": [
    "# Stratified CV"
   ]
  },
  {
   "cell_type": "code",
   "execution_count": 10,
   "metadata": {
    "execution": {
     "iopub.execute_input": "2023-03-31T06:33:37.321761Z",
     "iopub.status.busy": "2023-03-31T06:33:37.320733Z",
     "iopub.status.idle": "2023-03-31T06:33:37.367391Z",
     "shell.execute_reply": "2023-03-31T06:33:37.366234Z"
    },
    "papermill": {
     "duration": 0.056923,
     "end_time": "2023-03-31T06:33:37.369876",
     "exception": false,
     "start_time": "2023-03-31T06:33:37.312953",
     "status": "completed"
    },
    "tags": []
   },
   "outputs": [
    {
     "name": "stdout",
     "output_type": "stream",
     "text": [
      "cat = 0.2939366082095198\n",
      "xgb = 0.2940405102871711\n",
      "ensemble = 0.2939274709439068\n"
     ]
    }
   ],
   "source": [
    "from sklearn.metrics import mean_squared_log_error\n",
    "rmses = {}\n",
    "targets = train.cost\n",
    "for model in all_models:\n",
    "    rmses[f\"{model}_prediction\"] = mean_squared_log_error(targets,oof[f'{model}_prediction'], squared=False)\n",
    "    print(f'{model} = {rmses[f\"{model}_prediction\"]}')\n",
    "    \n",
    "oof['prediction'] = 0\n",
    "rmse_inv_sum = 0\n",
    "for model in all_models:\n",
    "    if model in ['xgb','lgb','cat']:\n",
    "        oof['prediction'] = oof['prediction'] + oof[f'{model}_prediction'] * (1/rmses[f'{model}_prediction'])\n",
    "        rmse_inv_sum += 1/rmses[f'{model}_prediction']\n",
    "    \n",
    "#print('xgb = 0.2930786590554832')\n",
    "oof['prediction'] = oof['prediction'] / rmse_inv_sum\n",
    "print(f'ensemble = {mean_squared_log_error(targets,oof[f\"prediction\"], squared=False)}')"
   ]
  },
  {
   "cell_type": "code",
   "execution_count": 11,
   "metadata": {
    "execution": {
     "iopub.execute_input": "2023-03-31T06:33:37.384561Z",
     "iopub.status.busy": "2023-03-31T06:33:37.383814Z",
     "iopub.status.idle": "2023-03-31T06:33:38.992818Z",
     "shell.execute_reply": "2023-03-31T06:33:38.991634Z"
    },
    "papermill": {
     "duration": 1.619304,
     "end_time": "2023-03-31T06:33:38.995707",
     "exception": false,
     "start_time": "2023-03-31T06:33:37.376403",
     "status": "completed"
    },
    "tags": []
   },
   "outputs": [
    {
     "data": {
      "image/png": "[encoded data removed]",
      "text/plain": [
       "<Figure size 1700x800 with 2 Axes>"
      ]
     },
     "metadata": {},
     "output_type": "display_data"
    }
   ],
   "source": [
    "fig, ax = plt.subplots(figsize=(17,8)) \n",
    "sns.histplot(data=oof, x=\"prediction\",bins = 100, ax=ax, kde = True)\n",
    "ax2 = ax.twinx()\n",
    "sns.boxplot(data=oof, x=\"prediction\", ax=ax2,boxprops=dict(alpha=.7))\n",
    "ax2.set(ylim=(-.5, 10))\n",
    "plt.suptitle('Cost countplot and Boxplot for my train predictions', fontsize=20)\n",
    "ax.grid(True)\n",
    "plt.show()"
   ]
  },
  {
   "cell_type": "markdown",
   "metadata": {
    "papermill": {
     "duration": 0.00766,
     "end_time": "2023-03-31T06:33:39.011414",
     "exception": false,
     "start_time": "2023-03-31T06:33:39.003754",
     "status": "completed"
    },
    "tags": []
   },
   "source": [
    "# Hold"
   ]
  },
  {
   "cell_type": "code",
   "execution_count": 12,
   "metadata": {
    "execution": {
     "iopub.execute_input": "2023-03-31T06:33:39.028166Z",
     "iopub.status.busy": "2023-03-31T06:33:39.027842Z",
     "iopub.status.idle": "2023-03-31T06:34:13.903017Z",
     "shell.execute_reply": "2023-03-31T06:34:13.901932Z"
    },
    "papermill": {
     "duration": 34.890087,
     "end_time": "2023-03-31T06:34:13.909223",
     "exception": false,
     "start_time": "2023-03-31T06:33:39.019136",
     "status": "completed"
    },
    "tags": []
   },
   "outputs": [
    {
     "name": "stdout",
     "output_type": "stream",
     "text": [
      "CAT :[901, 1126, 882, 722, 839]; mean : 894.0\n",
      "XGB :[970, 984, 958, 963, 997]; mean : 974.4\n",
      "\n",
      "0:\tlearn: 0.3148942\ttotal: 16.9ms\tremaining: 18.9s\n",
      "1000:\tlearn: 0.2912932\ttotal: 15.4s\tremaining: 1.78s\n",
      "1116:\tlearn: 0.2912804\ttotal: 17.1s\tremaining: 0us\n",
      "\n",
      "hold cat prediction: 0.29355145750541917\n",
      "hold xgb prediction: 0.2935512255175029\n",
      "\n",
      "hold ensemble prediction: 0.2934855789516012\n"
     ]
    }
   ],
   "source": [
    "print(f\"CAT :{num_trees_cat}; mean : {np.array(num_trees_cat).mean()}\")\n",
    "print(f\"XGB :{num_trees_xgb}; mean : {np.array(num_trees_xgb).mean()}\")\n",
    "print()\n",
    "hold_num_trees_cat = int(np.array(num_trees_cat).mean()*1.25)\n",
    "hold_num_trees_xgb = int(np.array(num_trees_xgb).mean()*1.25)\n",
    "#cat model\n",
    "cat_params2 = cat_params.copy()\n",
    "cat_params2.pop('iterations')\n",
    "cat_params2.pop('early_stopping_rounds')\n",
    "cat_params2.pop('use_best_model')\n",
    "new_params = {\n",
    "    'iterations': hold_num_trees_cat,\n",
    "}\n",
    "\n",
    "hold_cat = CatBoostRegressor(**cat_params2,**new_params)\n",
    "hold_cat.fit(train[CAT_FEATS].astype('float32'), np.log(train.cost+1),plot=False)\n",
    "\n",
    "\n",
    "#xgb model\n",
    "xgb_params2 = xgb_params.copy()\n",
    "xgb_params2.pop('early_stopping_rounds')\n",
    "xgb_params2['n_estimators'] = hold_num_trees_xgb\n",
    "\n",
    "hold_xgb = XGBRegressor(**xgb_params2)\n",
    "hold_xgb.fit(train[FEATS].astype('float32'), np.log(train.cost+1))\n",
    "\n",
    "#hold oof\n",
    "hold_pred = pd.DataFrame(index = hold.id)\n",
    "\n",
    "hold_pred['cat_predictions'] = np.exp(hold_cat.predict(hold[CAT_FEATS].astype('float32')))-1\n",
    "hold_pred['xgb_predictions'] = np.exp(hold_xgb.predict(hold[FEATS].astype('float32')))-1\n",
    "hold_pred['predictions'] = (hold_pred['xgb_predictions'] + hold_pred['cat_predictions']) /2\n",
    "\n",
    "#rmsles\n",
    "print(f\"\\nhold cat prediction: {mean_squared_log_error(hold.cost,hold_pred['cat_predictions'], squared=False)}\")\n",
    "print(f\"hold xgb prediction: {mean_squared_log_error(hold.cost,hold_pred['xgb_predictions'], squared=False)}\")\n",
    "print(f\"\\nhold ensemble prediction: {mean_squared_log_error(hold.cost,hold_pred['predictions'], squared=False)}\")"
   ]
  },
  {
   "cell_type": "code",
   "execution_count": 13,
   "metadata": {
    "execution": {
     "iopub.execute_input": "2023-03-31T06:34:13.926422Z",
     "iopub.status.busy": "2023-03-31T06:34:13.926128Z",
     "iopub.status.idle": "2023-03-31T06:34:13.936351Z",
     "shell.execute_reply": "2023-03-31T06:34:13.935336Z"
    },
    "papermill": {
     "duration": 0.021464,
     "end_time": "2023-03-31T06:34:13.938626",
     "exception": false,
     "start_time": "2023-03-31T06:34:13.917162",
     "status": "completed"
    },
    "tags": []
   },
   "outputs": [
    {
     "data": {
      "text/html": [
       "<div>\n",
       "<style scoped>\n",
       "    .dataframe tbody tr th:only-of-type {\n",
       "        vertical-align: middle;\n",
       "    }\n",
       "\n",
       "    .dataframe tbody tr th {\n",
       "        vertical-align: top;\n",
       "    }\n",
       "\n",
       "    .dataframe thead th {\n",
       "        text-align: right;\n",
       "    }\n",
       "</style>\n",
       "<table border=\"1\" class=\"dataframe\">\n",
       "  <thead>\n",
       "    <tr style=\"text-align: right;\">\n",
       "      <th></th>\n",
       "      <th>cat_predictions</th>\n",
       "      <th>xgb_predictions</th>\n",
       "      <th>predictions</th>\n",
       "    </tr>\n",
       "    <tr>\n",
       "      <th>id</th>\n",
       "      <th></th>\n",
       "      <th></th>\n",
       "      <th></th>\n",
       "    </tr>\n",
       "  </thead>\n",
       "  <tbody>\n",
       "    <tr>\n",
       "      <th>191948</th>\n",
       "      <td>112.671837</td>\n",
       "      <td>112.884872</td>\n",
       "      <td>112.778355</td>\n",
       "    </tr>\n",
       "    <tr>\n",
       "      <th>143368</th>\n",
       "      <td>91.400238</td>\n",
       "      <td>91.996666</td>\n",
       "      <td>91.698452</td>\n",
       "    </tr>\n",
       "    <tr>\n",
       "      <th>16664</th>\n",
       "      <td>99.708412</td>\n",
       "      <td>99.682533</td>\n",
       "      <td>99.695473</td>\n",
       "    </tr>\n",
       "    <tr>\n",
       "      <th>49607</th>\n",
       "      <td>99.679850</td>\n",
       "      <td>99.669617</td>\n",
       "      <td>99.674733</td>\n",
       "    </tr>\n",
       "    <tr>\n",
       "      <th>228005</th>\n",
       "      <td>108.390238</td>\n",
       "      <td>108.186714</td>\n",
       "      <td>108.288476</td>\n",
       "    </tr>\n",
       "  </tbody>\n",
       "</table>\n",
       "</div>"
      ],
      "text/plain": [
       "        cat_predictions  xgb_predictions  predictions\n",
       "id                                                   \n",
       "191948       112.671837       112.884872   112.778355\n",
       "143368        91.400238        91.996666    91.698452\n",
       "16664         99.708412        99.682533    99.695473\n",
       "49607         99.679850        99.669617    99.674733\n",
       "228005       108.390238       108.186714   108.288476"
      ]
     },
     "execution_count": 13,
     "metadata": {},
     "output_type": "execute_result"
    }
   ],
   "source": [
    "hold_pred.head()"
   ]
  },
  {
   "cell_type": "markdown",
   "metadata": {
    "papermill": {
     "duration": 0.007867,
     "end_time": "2023-03-31T06:34:13.954488",
     "exception": false,
     "start_time": "2023-03-31T06:34:13.946621",
     "status": "completed"
    },
    "tags": []
   },
   "source": [
    "# Inference"
   ]
  },
  {
   "cell_type": "code",
   "execution_count": 14,
   "metadata": {
    "execution": {
     "iopub.execute_input": "2023-03-31T06:34:13.971795Z",
     "iopub.status.busy": "2023-03-31T06:34:13.971531Z",
     "iopub.status.idle": "2023-03-31T06:35:12.455225Z",
     "shell.execute_reply": "2023-03-31T06:35:12.454122Z"
    },
    "papermill": {
     "duration": 58.495518,
     "end_time": "2023-03-31T06:35:12.458166",
     "exception": false,
     "start_time": "2023-03-31T06:34:13.962648",
     "status": "completed"
    },
    "tags": []
   },
   "outputs": [
    {
     "name": "stdout",
     "output_type": "stream",
     "text": [
      "0:\tlearn: 0.3151775\ttotal: 16.1ms\tremaining: 22.4s\n",
      "1000:\tlearn: 0.2922732\ttotal: 16.8s\tremaining: 6.64s\n",
      "1395:\tlearn: 0.2922435\ttotal: 22.8s\tremaining: 0us\n"
     ]
    }
   ],
   "source": [
    "new_params = {\n",
    "    'iterations': int(hold_num_trees_cat*1.25),\n",
    "}\n",
    "\n",
    "last_train = pd.concat([train,hold,original], ignore_index=True)\n",
    "\n",
    "test_cat = CatBoostRegressor(**cat_params2,**new_params)\n",
    "\n",
    "xgb_params3 = xgb_params2.copy()\n",
    "xgb_params3['n_estimators'] = int(xgb_params3['n_estimators']*1.25)\n",
    "test_xgb = XGBRegressor(**xgb_params3)\n",
    "\n",
    "test_xgb.fit(last_train[FEATS].astype('float32'), np.log(last_train.cost+1))\n",
    "test_cat.fit(last_train[CAT_FEATS].astype('float32'), np.log(last_train.cost+1),plot=False)\n",
    "\n",
    "submission = pd.DataFrame(index = test.id)\n",
    "submission['id'] = submission.index\n",
    "\n",
    "submission['cost_xgb'] = np.exp(test_xgb.predict(test[FEATS].astype('float32')))-1\n",
    "submission['cost_cat'] = np.exp(test_cat.predict(test[CAT_FEATS].astype('float32')))-1\n",
    "submission['cost'] = (submission['cost_xgb'] + submission['cost_cat']) / 2"
   ]
  },
  {
   "cell_type": "code",
   "execution_count": 15,
   "metadata": {
    "execution": {
     "iopub.execute_input": "2023-03-31T06:35:12.476645Z",
     "iopub.status.busy": "2023-03-31T06:35:12.476338Z",
     "iopub.status.idle": "2023-03-31T06:35:12.487014Z",
     "shell.execute_reply": "2023-03-31T06:35:12.485992Z"
    },
    "papermill": {
     "duration": 0.022205,
     "end_time": "2023-03-31T06:35:12.489256",
     "exception": false,
     "start_time": "2023-03-31T06:35:12.467051",
     "status": "completed"
    },
    "tags": []
   },
   "outputs": [
    {
     "data": {
      "text/html": [
       "<div>\n",
       "<style scoped>\n",
       "    .dataframe tbody tr th:only-of-type {\n",
       "        vertical-align: middle;\n",
       "    }\n",
       "\n",
       "    .dataframe tbody tr th {\n",
       "        vertical-align: top;\n",
       "    }\n",
       "\n",
       "    .dataframe thead th {\n",
       "        text-align: right;\n",
       "    }\n",
       "</style>\n",
       "<table border=\"1\" class=\"dataframe\">\n",
       "  <thead>\n",
       "    <tr style=\"text-align: right;\">\n",
       "      <th></th>\n",
       "      <th>id</th>\n",
       "      <th>cost_xgb</th>\n",
       "      <th>cost_cat</th>\n",
       "      <th>cost</th>\n",
       "    </tr>\n",
       "    <tr>\n",
       "      <th>id</th>\n",
       "      <th></th>\n",
       "      <th></th>\n",
       "      <th></th>\n",
       "      <th></th>\n",
       "    </tr>\n",
       "  </thead>\n",
       "  <tbody>\n",
       "    <tr>\n",
       "      <th>360336</th>\n",
       "      <td>360336</td>\n",
       "      <td>90.134430</td>\n",
       "      <td>90.216530</td>\n",
       "      <td>90.175480</td>\n",
       "    </tr>\n",
       "    <tr>\n",
       "      <th>360337</th>\n",
       "      <td>360337</td>\n",
       "      <td>94.201973</td>\n",
       "      <td>94.258625</td>\n",
       "      <td>94.230299</td>\n",
       "    </tr>\n",
       "    <tr>\n",
       "      <th>360338</th>\n",
       "      <td>360338</td>\n",
       "      <td>94.396187</td>\n",
       "      <td>94.388595</td>\n",
       "      <td>94.392391</td>\n",
       "    </tr>\n",
       "    <tr>\n",
       "      <th>360339</th>\n",
       "      <td>360339</td>\n",
       "      <td>99.006927</td>\n",
       "      <td>99.129868</td>\n",
       "      <td>99.068398</td>\n",
       "    </tr>\n",
       "    <tr>\n",
       "      <th>360340</th>\n",
       "      <td>360340</td>\n",
       "      <td>78.339905</td>\n",
       "      <td>78.380880</td>\n",
       "      <td>78.360392</td>\n",
       "    </tr>\n",
       "  </tbody>\n",
       "</table>\n",
       "</div>"
      ],
      "text/plain": [
       "            id   cost_xgb   cost_cat       cost\n",
       "id                                             \n",
       "360336  360336  90.134430  90.216530  90.175480\n",
       "360337  360337  94.201973  94.258625  94.230299\n",
       "360338  360338  94.396187  94.388595  94.392391\n",
       "360339  360339  99.006927  99.129868  99.068398\n",
       "360340  360340  78.339905  78.380880  78.360392"
      ]
     },
     "execution_count": 15,
     "metadata": {},
     "output_type": "execute_result"
    }
   ],
   "source": [
    "submission.head()"
   ]
  },
  {
   "cell_type": "code",
   "execution_count": 16,
   "metadata": {
    "execution": {
     "iopub.execute_input": "2023-03-31T06:35:12.507112Z",
     "iopub.status.busy": "2023-03-31T06:35:12.506812Z",
     "iopub.status.idle": "2023-03-31T06:35:12.938765Z",
     "shell.execute_reply": "2023-03-31T06:35:12.937730Z"
    },
    "papermill": {
     "duration": 0.44348,
     "end_time": "2023-03-31T06:35:12.941194",
     "exception": false,
     "start_time": "2023-03-31T06:35:12.497714",
     "status": "completed"
    },
    "tags": []
   },
   "outputs": [],
   "source": [
    "submission[['id','cost']].to_csv('submission.csv', index= False)"
   ]
  }
 ],
 "metadata": {
  "kernelspec": {
   "display_name": "Python 3",
   "language": "python",
   "name": "python3"
  },
  "language_info": {
   "codemirror_mode": {
    "name": "ipython",
    "version": 3
   },
   "file_extension": ".py",
   "mimetype": "text/x-python",
   "name": "python",
   "nbconvert_exporter": "python",
   "pygments_lexer": "ipython3",
   "version": "3.8.3"
  },
  "papermill": {
   "default_parameters": {},
   "duration": 346.023747,
   "end_time": "2023-03-31T06:35:14.272423",
   "environment_variables": {},
   "exception": null,
   "input_path": "__notebook__.ipynb",
   "output_path": "__notebook__.ipynb",
   "parameters": {},
   "start_time": "2023-03-31T06:29:28.248676",
   "version": "2.4.0"
  }
 },
 "nbformat": 4,
 "nbformat_minor": 5
}
